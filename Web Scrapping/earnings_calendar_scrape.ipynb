{
 "cells": [
  {
   "cell_type": "markdown",
   "id": "b7108ea6-736d-4cd9-b3c8-cfe9d092c281",
   "metadata": {},
   "source": [
    "# Earnings Calendar Scraper\n",
    "\n",
    "This code will go to NASDAQ website and access the ticker symbols that will be releasing earnings reports after market close. The program will then store the symbols in a dataframe which will be saved in the local drive. The program will then use the ticker symbols to get historical pricing for the past n years in the notebook \"nasdaq_stock_prices\". Additionally, another program \"invesing_com_scrape\" will retrieve the historical earnings (9 years back if applicable). Finally, \"stock_analysis\" will analyze."
   ]
  },
  {
   "cell_type": "code",
   "execution_count": 1,
   "id": "bc462031-d6ab-48ee-bb0c-de5e89e6347a",
   "metadata": {},
   "outputs": [],
   "source": [
    "#import necessary libraries\n",
    "from selenium import webdriver\n",
    "from selenium.webdriver.common.by import By\n",
    "from selenium.webdriver.common.action_chains import ActionChains\n",
    "from selenium.webdriver.common.keys import Keys\n",
    "import datetime\n",
    "import time\n",
    "import pandas as pd\n",
    "import os"
   ]
  },
  {
   "cell_type": "code",
   "execution_count": 2,
   "id": "82620489-840c-4fbc-a403-fe2210fd6a24",
   "metadata": {},
   "outputs": [],
   "source": [
    "#create a function that goes to the earnings page\n",
    "def earnings_calendar(nasdaq_earnings_page):\n",
    "    \n",
    "    #navigating to website section\n",
    "    try:\n",
    "        #Set up the webdriver\n",
    "        global driver\n",
    "        \n",
    "        driver = webdriver.Chrome()       \n",
    "\n",
    "        # Navigate to the webpage\n",
    "        driver.get(nasdaq_earnings_page)\n",
    "        \n",
    "        #sleep\n",
    "        time.sleep(20)\n",
    "\n",
    "        \n",
    "    except:\n",
    "        \"Could not get to the webpage\""
   ]
  },
  {
   "cell_type": "code",
   "execution_count": 3,
   "id": "2bdca054-8bf0-4d37-a089-f40631b116b6",
   "metadata": {},
   "outputs": [],
   "source": [
    "#function to get the time of the earnings report since we are interested in earnings released after market close\n",
    "def time_of_earnings():\n",
    "    \n",
    "    global driver\n",
    "\n",
    "    #attempt to get the elements that pertain to the image icons found in the table. We are interested in the one with the moon\n",
    "    #we can accomplish this by clicking on the \"Time\" symbol which automatically sorts to the earnings realesed at market close\n",
    "    \n",
    "    try:\n",
    "        #single find element because there is only one time icon on the page\n",
    "        time_icon = driver.find_element(By.XPATH, \"//button[contains(@class, 'market-calendar-table__columnheader-content')]\")\n",
    "    \n",
    "    except:\n",
    "        \n",
    "        print('Time Icon location is invalid.')\n",
    "                                        \n",
    "    #attempt to click the button\n",
    "    try:\n",
    "        \n",
    "        #click the button to sort the table by earnings that are released at market close\n",
    "        time_icon.click()\n",
    "    \n",
    "    #catch error\n",
    "    except:\n",
    "        print('There was an error clicking the Time Icon button.')\n",
    "        "
   ]
  },
  {
   "cell_type": "code",
   "execution_count": 4,
   "id": "ae5ae4c6-8a5a-4ca9-8ad4-2cdc939eb7d5",
   "metadata": {},
   "outputs": [],
   "source": [
    "#fucnction to find the table and parse data\n",
    "def earnings_table_finder():\n",
    "    \n",
    "    global driver\n",
    "\n",
    "    #attempt to find the earnings calendar\n",
    "    try:\n",
    "        #using find_element because the code will retrieve the first instance which applies here\n",
    "        earnings_calendar_elements = driver.find_element(By.XPATH, '//table[@class=\"market-calendar-table__table\"]')\n",
    "        \n",
    "        #store the text in a variable\n",
    "        earnings_raw_data = earnings_calendar_elements.text\n",
    "\n",
    "    \n",
    "    #catch the error\n",
    "    except:\n",
    "        print('Earnings calendar location invalid')\n",
    "\n",
    "\n",
    "    # return ticker_symbols\n",
    "    return earnings_calendar_elements"
   ]
  },
  {
   "cell_type": "code",
   "execution_count": 5,
   "id": "e9ee2ad9-a8ea-4417-8788-9e216fe2a155",
   "metadata": {},
   "outputs": [],
   "source": [
    "#function takes in the table web page element and prints out the data row by row\n",
    "def table_parser(table_web_element):\n",
    "\n",
    "    #ticker symbol list\n",
    "    ticker_symbols = []\n",
    "\n",
    "    # Find all the rows in the table using a CSS selector\n",
    "    rows = table_web_element.find_elements(By.CSS_SELECTOR, \"tr\")\n",
    "    \n",
    "    # Loop through each row and extract the data\n",
    "    for row in rows:\n",
    "        \n",
    "        # Find all the cells in the row using a CSS selector\n",
    "        cells = row.find_elements(By.CSS_SELECTOR, \"td\")\n",
    "\n",
    "        # Loop through each cell and extract the text\n",
    "        for cell in cells:\n",
    "            \n",
    "            # Extract the text from the cell\n",
    "            row_data = cell.text\n",
    "\n",
    "            # print(row_data)\n",
    "            ticker_symbols.append(row_data)\n",
    "    \n",
    "    \n",
    "    #alter the list so that you get every 8th element of the list (ticker symbol)\n",
    "    ticker_symbols = ticker_symbols[::8]    \n",
    "    \n",
    "    #return the tickers\n",
    "    return ticker_symbols"
   ]
  },
  {
   "cell_type": "markdown",
   "id": "c38999e1-ba91-4366-a5c1-92f7572269de",
   "metadata": {},
   "source": [
    "# Mechanism that pulls ticker symbols from NASDAQ"
   ]
  },
  {
   "cell_type": "code",
   "execution_count": 6,
   "id": "61b48d1d-71d8-4022-8c9f-8c09f55c02e8",
   "metadata": {},
   "outputs": [
    {
     "name": "stdout",
     "output_type": "stream",
     "text": [
      "Today's Total Tickers 50\n",
      "['PALT', 'TNON', 'CPIX', 'LSTA', 'SALM']\n"
     ]
    }
   ],
   "source": [
    "#main mechanism that pulls the data of interest\n",
    "\n",
    "#nasdaq url\n",
    "nasdaq_url = 'https://www.nasdaq.com/market-activity/earnings'\n",
    "\n",
    "#function that navigates to the NASDAQ earnings calendar page, by default it takes you to today's stocks.\n",
    "earnings_calendar(nasdaq_url)\n",
    "\n",
    "#Filters by the companies that release earnings after market close\n",
    "icons_trial = time_of_earnings()          \n",
    "\n",
    "#retrieves the ticker symbols that will release earnings after market close\n",
    "earnings_table_element = earnings_table_finder()\n",
    "\n",
    "#input the table element into the table parser function to get tickers\n",
    "ticker_symbols = table_parser(earnings_table_element)\n",
    "\n",
    "#display the total number of tickers that are releasing earnings at market close\n",
    "print('Today\\'s Total Tickers', len(ticker_symbols))\n",
    "\n",
    "#store today's date\n",
    "today = datetime.date.today()\n",
    "\n",
    "#create dataframe to send to csv\n",
    "ticker_df = pd.DataFrame({'tickers':ticker_symbols})\n",
    "ticker_df.to_csv(f'tickers_for_{today}.csv')\n",
    "\n",
    "#display the first 5 tickers\n",
    "print(ticker_symbols[:5])"
   ]
  }
 ],
 "metadata": {
  "kernelspec": {
   "display_name": "Python 3 (ipykernel)",
   "language": "python",
   "name": "python3"
  },
  "language_info": {
   "codemirror_mode": {
    "name": "ipython",
    "version": 3
   },
   "file_extension": ".py",
   "mimetype": "text/x-python",
   "name": "python",
   "nbconvert_exporter": "python",
   "pygments_lexer": "ipython3",
   "version": "3.10.9"
  }
 },
 "nbformat": 4,
 "nbformat_minor": 5
}
