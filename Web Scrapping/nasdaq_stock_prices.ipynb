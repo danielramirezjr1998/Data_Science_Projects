{
 "cells": [
  {
   "cell_type": "markdown",
   "id": "ce04de96-ce69-4608-9f05-2d8d7aa47f35",
   "metadata": {},
   "source": [
    "# Program to retrieve the daily prices of a given stock tracing back to it's first trading day"
   ]
  },
  {
   "cell_type": "code",
   "execution_count": 1,
   "id": "15be9a2b-5732-4562-ac33-7085ae6d430d",
   "metadata": {},
   "outputs": [],
   "source": [
    "#import necessary libraries\n",
    "from selenium import webdriver\n",
    "from selenium.webdriver.common.by import By\n",
    "from selenium.webdriver.common.action_chains import ActionChains\n",
    "from selenium.webdriver.common.keys import Keys\n",
    "import time\n",
    "import datetime\n",
    "import pandas as pd\n",
    "import os\n",
    "import shutil"
   ]
  },
  {
   "cell_type": "code",
   "execution_count": 2,
   "id": "ea692753-63f4-433b-b663-22e39b25fd09",
   "metadata": {},
   "outputs": [],
   "source": [
    "#function to go to the stock's historical price page on NASDAQ\n",
    "def download_historical_prices(ticker_symbol):\n",
    "    \n",
    "    global driver\n",
    "    \n",
    "    #create the unique link using the ticker symbol\n",
    "    try:\n",
    "        unique_ticker_link = f\"https://www.nasdaq.com/market-activity/stocks/{ticker_symbol}/historical\"\n",
    "        print(unique_ticker_link)\n",
    "\n",
    "    except:\n",
    "        pass\n",
    "    #attempt to go the NASDAQ link\n",
    "    try:\n",
    "        \n",
    "        #open the \n",
    "        driver.get(unique_ticker_link)\n",
    "        #let the website load\n",
    "        time.sleep(5)\n",
    "    \n",
    "    except:\n",
    "        print('Historical Prices for this ticker not found.')\n",
    "        \n",
    "    driver.execute_script(\"window.scrollBy(0, 500);\")\n",
    "        \n",
    " ########################################################################################\n",
    "\n",
    "    #this section finds the \"MAX: button which provides all the daily prices for a certain stock \n",
    "    try:\n",
    "        \n",
    "        #find the location of the max button\n",
    "        max_button = driver.find_element(By.XPATH, \"//button[@class='table-tabs__tab' and @aria-label='Click to show maximum available data']\")\n",
    "    \n",
    "    except:    \n",
    "        print('Max button location is invalid.')\n",
    "\n",
    " ########################################################################################\n",
    "\n",
    "    #attempt to click the button\n",
    "    try:\n",
    "        max_button.click()\n",
    "        time.sleep(10)\n",
    "        \n",
    "    except:\n",
    "        print('Max button could not be clicked.')\n",
    "        \n",
    " ########################################################################################    \n",
    "    #attempt to locate the download button\n",
    "    try:\n",
    "        download_button = driver.find_element(By.XPATH,\"//button[contains(@class, 'historical-data__controls-button--download')]\")\n",
    "    \n",
    "    except:\n",
    "        print('Download button could not be located.')\n",
    "        \n",
    " ########################################################################################\n",
    "    #attempt to click button\n",
    "    try:\n",
    "        download_button.click()\n",
    "        time.sleep(5)\n",
    "    except:\n",
    "        print('Could not click download button.')"
   ]
  },
  {
   "cell_type": "code",
   "execution_count": 3,
   "id": "d20d16c3-f12c-4424-81a8-53a975eca8f6",
   "metadata": {},
   "outputs": [],
   "source": [
    "#function that changes the name of the lastest file in the Downloads folder\n",
    "#this will help in organizing data after it's completely pulled\n",
    "def file_renamer(ticker_name):\n",
    "    \n",
    "    \n",
    "    # Get the most recently downloaded file from the Downloads folder\n",
    "    downloads_path = os.path.expanduser(\"~/Downloads/\")\n",
    "    newest_file = max(os.listdir(downloads_path), key=lambda f: os.path.getctime(os.path.join(downloads_path, f)))\n",
    "\n",
    "    # Rename the file to a new name (change 'new_file_name' to desired name)\n",
    "    new_file_name = f\"{ticker_name}_historical_prices.csv\"\n",
    "    \n",
    "    #rename the file\n",
    "    os.rename(os.path.join(downloads_path, newest_file), os.path.join(downloads_path, new_file_name))\n"
   ]
  },
  {
   "cell_type": "code",
   "execution_count": 4,
   "id": "b20504c6-1cf0-459a-a235-eb20d9552d2d",
   "metadata": {},
   "outputs": [],
   "source": [
    "#function to move data into its respective folder\n",
    "def move_csv_files_to_historical_prices(formatted_date):\n",
    "    \n",
    "    downloads_folder = os.path.expanduser(\"~/Downloads\")\n",
    "    historical_prices_folder = os.path.expanduser(f\"~/Documents/Data Science Projects/Historical Prices/{formatted_date}\")\n",
    "    \n",
    "    # Get a list of all files in the Downloads folder\n",
    "    files = os.listdir(downloads_folder)\n",
    "    \n",
    "    # Loop through the files and move any CSV files to the Historical Prices folder\n",
    "    for filename in files:\n",
    "        if filename.endswith(\".csv\"):\n",
    "            source = os.path.join(downloads_folder, filename)\n",
    "            destination = os.path.join(historical_prices_folder, filename)\n",
    "            shutil.move(source, destination)\n",
    "            print(f\"Moved {filename} to {historical_prices_folder}\")\n"
   ]
  },
  {
   "cell_type": "markdown",
   "id": "93fb2e73-2cb5-4817-878c-917090775f9c",
   "metadata": {},
   "source": [
    "# Mechanism that pulls max historical prices for the ticker symbols pulled from the earnings calendar"
   ]
  },
  {
   "cell_type": "code",
   "execution_count": 5,
   "id": "18bf5709-369f-4232-bc7b-fe2e490bfed8",
   "metadata": {},
   "outputs": [
    {
     "name": "stdout",
     "output_type": "stream",
     "text": [
      "2023-06-28\n"
     ]
    }
   ],
   "source": [
    "#create the folder \n",
    "today = str(datetime.date.today())\n",
    "print(today)\n",
    "\n",
    "path = os.path.expanduser(\"~/Documents/Data Science Projects/Historical Prices/\" + today)\n",
    "os.makedirs(path)"
   ]
  },
  {
   "cell_type": "code",
   "execution_count": 6,
   "id": "4f3238fd-aa8f-44b0-a0a8-c8ed952fffa3",
   "metadata": {},
   "outputs": [
    {
     "data": {
      "text/plain": [
       "['AEMD', 'CULP', 'AOUT', 'FC', 'BB']"
      ]
     },
     "execution_count": 6,
     "metadata": {},
     "output_type": "execute_result"
    }
   ],
   "source": [
    "#pull in the ticker symbols\n",
    "stock_tickers = pd.read_csv(f'tickers_for_{today}.csv')\n",
    "\n",
    "#create a list of the stock tickers\n",
    "stock_releasing_earnings_after_close = stock_tickers['tickers'].to_list()\n",
    "\n",
    "#display the first 5 ticker symbols\n",
    "stock_releasing_earnings_after_close[0:5]"
   ]
  },
  {
   "cell_type": "code",
   "execution_count": 7,
   "id": "1ef3524b-5826-4b3d-aa98-8c30e003095f",
   "metadata": {},
   "outputs": [
    {
     "name": "stdout",
     "output_type": "stream",
     "text": [
      "AEMD\n",
      "0\n",
      "https://www.nasdaq.com/market-activity/stocks/AEMD/historical\n",
      "\n",
      "CULP\n",
      "1\n",
      "https://www.nasdaq.com/market-activity/stocks/CULP/historical\n",
      "\n",
      "AOUT\n",
      "2\n",
      "https://www.nasdaq.com/market-activity/stocks/AOUT/historical\n",
      "\n",
      "FC\n",
      "3\n",
      "https://www.nasdaq.com/market-activity/stocks/FC/historical\n",
      "\n",
      "BB\n",
      "4\n",
      "https://www.nasdaq.com/market-activity/stocks/BB/historical\n",
      "\n"
     ]
    }
   ],
   "source": [
    "#establish a connection with browser\n",
    "driver = webdriver.Chrome()\n",
    "\n",
    "#loop through the list of ticker symbols\n",
    "for index, ticker in enumerate(stock_releasing_earnings_after_close[0:5]):\n",
    "    \n",
    "    \n",
    "    print(ticker)\n",
    "    print(index)\n",
    "    \n",
    "    #call function that retrieves the data of interest\n",
    "    download_historical_prices(ticker)\n",
    "\n",
    "    #once the data is downloaded, change the name of the file immediately for organization purposes\n",
    "    file_renamer(ticker)\n",
    "\n",
    "    print()\n",
    "    "
   ]
  }
 ],
 "metadata": {
  "kernelspec": {
   "display_name": "Python 3 (ipykernel)",
   "language": "python",
   "name": "python3"
  },
  "language_info": {
   "codemirror_mode": {
    "name": "ipython",
    "version": 3
   },
   "file_extension": ".py",
   "mimetype": "text/x-python",
   "name": "python",
   "nbconvert_exporter": "python",
   "pygments_lexer": "ipython3",
   "version": "3.10.9"
  }
 },
 "nbformat": 4,
 "nbformat_minor": 5
}
